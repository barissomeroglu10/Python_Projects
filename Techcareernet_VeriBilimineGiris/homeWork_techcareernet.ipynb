{
 "cells": [
  {
   "cell_type": "code",
   "execution_count": null,
   "id": "5aa7d26e-1d06-4871-bebb-4e65c52020fd",
   "metadata": {},
   "outputs": [],
   "source": [
    "from datetime import datetime as dt"
   ]
  },
  {
   "cell_type": "code",
   "execution_count": null,
   "id": "f2d82fcb-8a1e-40c8-9e56-58887940583b",
   "metadata": {},
   "outputs": [],
   "source": [
    "name = \"Barış\"\n",
    "surname = \"Someroğlu\"\n",
    "university = \"Van Yüzüncü Yıl University\"\n",
    "city = \"İstanbul\"\n",
    "\n",
    "age = \"26\"\n",
    "full_age = \"26.1\"\n",
    "current_year = dt.now()"
   ]
  },
  {
   "cell_type": "code",
   "execution_count": null,
   "id": "0e77a644-6743-4d46-9261-368fcda608d5",
   "metadata": {},
   "outputs": [
    {
     "name": "stdout",
     "output_type": "stream",
     "text": [
      "Hello from 2025-10-30 00:56:59.791722. I am Barış Someroğlu. And I am 26 years old. I'm a computer engineering student. I'm at Van Yüzüncü Yıl University. I live in İstanbul.\n"
     ]
    }
   ],
   "source": [
    "print(f\"Hello from {current_year}. I am {name} {surname}. And I am {age} years old. I'm a computer engineering student. I'm at {university}. I live in {city}.\")"
   ]
  },
  {
   "cell_type": "code",
   "execution_count": null,
   "id": "365f2d8c-df8d-46b4-a4b8-2eeb5643fe9c",
   "metadata": {},
   "outputs": [],
   "source": []
  }
 ],
 "metadata": {
  "kernelspec": {
   "display_name": "Python 3 (ipykernel)",
   "language": "python",
   "name": "python3"
  },
  "language_info": {
   "codemirror_mode": {
    "name": "ipython",
    "version": 3
   },
   "file_extension": ".py",
   "mimetype": "text/x-python",
   "name": "python",
   "nbconvert_exporter": "python",
   "pygments_lexer": "ipython3",
   "version": "3.13.7"
  }
 },
 "nbformat": 4,
 "nbformat_minor": 5
}
